{
 "cells": [
  {
   "cell_type": "markdown",
   "metadata": {},
   "source": [
    "# Interface to FMU Proxy\n",
    "> This module contains classes and methods that provides user-friendly interfaces to manage\n",
    "an FMU proxy server"
   ]
  },
  {
   "cell_type": "code",
   "execution_count": null,
   "metadata": {},
   "outputs": [],
   "source": [
    "#| default_exp fmu_proxy\n",
    "%load_ext autoreload\n",
    "%autoreload 2"
   ]
  },
  {
   "cell_type": "code",
   "execution_count": null,
   "metadata": {},
   "outputs": [],
   "source": [
    "#| hide\n",
    "from nbdev.showdoc import *"
   ]
  },
  {
   "cell_type": "code",
   "execution_count": null,
   "metadata": {},
   "outputs": [],
   "source": [
    "#| export\n",
    "import json\n",
    "import logging\n",
    "from dataclasses import dataclass\n",
    "from subprocess import Popen\n",
    "from typing import Dict, Union, Optional\n"
   ]
  },
  {
   "cell_type": "code",
   "execution_count": null,
   "metadata": {},
   "outputs": [],
   "source": [
    "#| export\n",
    "\n",
    "\n",
    "@dataclass\n",
    "class NetworkEndpoint:\n",
    "    \"\"\"Namedtuple class for a network endpoint\"\"\"\n",
    "    address: str\n",
    "    port: int = None\n",
    "\n",
    "    def to_dict(self) -> Dict[str, Union[str, int]]:\n",
    "        \"\"\"Return dictionary form of the data\"\"\"\n",
    "        return {'address': self.address, 'port': self.port}\n",
    "\n",
    "    def to_json(self) -> str:\n",
    "        \"\"\"Return json form of the data\"\"\"\n",
    "        return json.dumps(self.to_dict())\n",
    "\n",
    "    @property\n",
    "    def network_string(self) -> str:\n",
    "        \"\"\"Returns a network string\"\"\"\n",
    "        if self.port is None:\n",
    "            return self.address\n",
    "        return f\"{self.address}:{self.port}\"\n",
    "\n",
    "    @property\n",
    "    def is_local_host(self) -> bool:\n",
    "        \"\"\"Returns True if the address is localhost\"\"\"\n",
    "        return self.address in [\"localhost\", \"127.0.0.1\"]\n",
    "\n",
    "\n",
    "class DistributedSimulationProxyServer:\n",
    "    \"\"\"Class for handling distributed simulation proxy server\"\"\"\n",
    "\n",
    "    def __init__(\n",
    "            self,\n",
    "            file_path_fmu: Optional[str] = None,\n",
    "            endpoint: NetworkEndpoint = NetworkEndpoint(address=\"localhost\", port=9090),\n",
    "            source_text: Optional[str] = None,\n",
    "    ):\n",
    "        \"\"\"Constructor for the class\"\"\"\n",
    "        if source_text is not None:\n",
    "            # source_text should be in the following form: \"address:port?file=path/to/fmu\"\n",
    "            # if address is localhost, port may be missing\n",
    "            address_port, query = source_text.split(\"?\")\n",
    "            address, port = address_port.split(\":\") if \":\" in address_port else (address_port, None)\n",
    "            port = int(port) if port is not None else None\n",
    "            file_path_fmu = query.split(\"=\")[1]\n",
    "            endpoint = NetworkEndpoint(address=address, port=port)\n",
    "        self.endpoint = endpoint\n",
    "        self.file_path_fmu = file_path_fmu\n",
    "\n",
    "    @property\n",
    "    def _query_string(self):\n",
    "        \"\"\"Returns the query string for the endpoint\"\"\"\n",
    "        return f\"file={self.file_path_fmu}\"\n",
    "\n",
    "    @property\n",
    "    def endpoint_str(self):\n",
    "        \"\"\"Returns the end point for a system structure file\"\"\"\n",
    "        return f\"proxyfmu://{self.endpoint.network_string}?{self._query_string}\"\n",
    "\n"
   ]
  },
  {
   "cell_type": "code",
   "execution_count": null,
   "metadata": {},
   "outputs": [],
   "source": []
  }
 ],
 "metadata": {
  "kernelspec": {
   "display_name": "Python 3",
   "language": "python",
   "name": "python3"
  }
 },
 "nbformat": 4,
 "nbformat_minor": 0
}
