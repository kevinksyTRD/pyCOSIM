{
 "cells": [
  {
   "cell_type": "markdown",
   "metadata": {
    "collapsed": false,
    "pycharm": {
     "name": "#%% md\n"
    }
   },
   "source": [
    "# Interface to FMU Proxy\n",
    "> This module contains classes and methods that provides user-friendly interfaces to manage\n",
    "an FMU proxy server"
   ]
  },
  {
   "cell_type": "code",
   "execution_count": 2,
   "metadata": {
    "collapsed": true
   },
   "outputs": [],
   "source": [
    "#| default_exp fmu_proxy\n",
    "%load_ext autoreload\n",
    "%autoreload 2"
   ]
  },
  {
   "cell_type": "code",
   "execution_count": 3,
   "metadata": {
    "collapsed": false,
    "pycharm": {
     "name": "#%%\n"
    }
   },
   "outputs": [],
   "source": [
    "#| hide\n",
    "from nbdev.showdoc import *"
   ]
  },
  {
   "cell_type": "code",
   "execution_count": null,
   "metadata": {
    "collapsed": false,
    "pycharm": {
     "name": "#%%\n"
    }
   },
   "outputs": [],
   "source": [
    "#| export\n",
    "import json\n",
    "import logging\n",
    "from dataclasses import dataclass\n",
    "from subprocess import Popen\n",
    "from typing import Dict, Union\n"
   ]
  },
  {
   "cell_type": "code",
   "execution_count": null,
   "metadata": {
    "collapsed": false,
    "pycharm": {
     "name": "#%%\n"
    }
   },
   "outputs": [],
   "source": [
    "#| export\n",
    "\n",
    "\n",
    "@dataclass\n",
    "class NetworkEndpoint:\n",
    "    \"\"\"Namedtuple class for a network endpoint\"\"\"\n",
    "    address: str\n",
    "    port: int\n",
    "\n",
    "    def to_dict(self) -> Dict[str, Union[str, int]]:\n",
    "        \"\"\"Return dictionary form of the data\"\"\"\n",
    "        return {'address': self.address, 'port': self.port}\n",
    "\n",
    "    def to_json(self) -> str:\n",
    "        \"\"\"Return json form of the data\"\"\"\n",
    "        return json.dumps(self.to_dict())\n",
    "\n",
    "    @property\n",
    "    def network_string(self) -> str:\n",
    "        \"\"\"Returns a network string\"\"\"\n",
    "        return f\"{self.address}:{self.port}\"\n",
    "\n",
    "\n",
    "class DistributedSimulationProxyServer:\n",
    "    \"\"\"Class for handling distributed simulation proxy server\"\"\"\n",
    "\n",
    "    def __init__(\n",
    "            self,\n",
    "            file_path_fmu: str,\n",
    "            guid: str = None,\n",
    "            endpoint: NetworkEndpoint = NetworkEndpoint(address=\"localhost\", port=9090),\n",
    "    ):\n",
    "        \"\"\"Constructor for the class\"\"\"\n",
    "        self.endpoint = endpoint\n",
    "        self.guid = guid\n",
    "        self.file_path_fmu = file_path_fmu\n",
    "\n",
    "    @property\n",
    "    def _query_string(self):\n",
    "        \"\"\"Returns the query string for the endpoint\"\"\"\n",
    "        return f\"file={self.file_path_fmu}\" if self.guid is None else f\"guid={self.guid}\"\n",
    "\n",
    "    @property\n",
    "    def endpoint_str(self):\n",
    "        \"\"\"Returns the end point for a system structure file\"\"\"\n",
    "        return f\"fmu-proxy://{self.endpoint.network_string}?{self._query_string}\"\n",
    "\n",
    "    def run_local_proxy_server_async(\n",
    "            self,\n",
    "            path_to_server_executable,\n",
    "            logger: logging.Logger = None,\n",
    "    ) -> Union[Popen, bool]:\n",
    "        \"\"\"Run a local proxy server if it is set to be local. Only applicable for java based proxy server\"\"\"\n",
    "        if self.endpoint.address != \"localhost\":\n",
    "            if logger is not None:\n",
    "                logger.error(\"This instance is for remote proxy server. Skip the command\")\n",
    "            return False\n",
    "\n",
    "        args = [\n",
    "            'java', '-jar',\n",
    "            path_to_server_executable, '-thrift/tcp', str(self.endpoint.port),\n",
    "            self.file_path_fmu\n",
    "        ]\n",
    "        if logger is not None:\n",
    "            logger.info(f\"Starting a proxy-server at port {self.endpoint.port}.\")\n",
    "            logger.info(\" \".join(args))\n",
    "        return Popen(args=args)\n"
   ]
  }
 ],
 "metadata": {
  "kernelspec": {
   "display_name": "Python 3",
   "language": "python",
   "name": "python3"
  },
  "language_info": {
   "codemirror_mode": {
    "name": "ipython",
    "version": 2
   },
   "file_extension": ".py",
   "mimetype": "text/x-python",
   "name": "python",
   "nbconvert_exporter": "python",
   "pygments_lexer": "ipython2",
   "version": "2.7.6"
  }
 },
 "nbformat": 4,
 "nbformat_minor": 0
}