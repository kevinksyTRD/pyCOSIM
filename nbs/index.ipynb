{
 "cells": [
  {
   "cell_type": "markdown",
   "metadata": {},
   "source": [
    "# PyCoSim\n",
    "\n",
    "> Python interface to create, configure and run co-simulation using OSP software and standards.\n",
    "\n",
    "![PyCoSim](/resources/PyCoSimTitle.svg)"
   ]
  },
  {
   "cell_type": "markdown",
   "metadata": {},
   "source": [
    "## Features"
   ]
  },
  {
   "cell_type": "markdown",
   "metadata": {},
   "source": [
    "- Importing an FMU file, getting information of the model description and running a single FMU simulation,\n",
    "- Importing a system configuration, configuring output logging and scenario, running co-simulation and retrieving the results,\n",
    "- Creating a system configuration, adding fmus, connections, initial values"
   ]
  },
  {
   "cell_type": "markdown",
   "metadata": {},
   "source": [
    "## Install"
   ]
  },
  {
   "cell_type": "markdown",
   "metadata": {},
   "source": [
    "```sh\n",
    "pip install pycosim\n",
    "```"
   ]
  },
  {
   "cell_type": "markdown",
   "metadata": {},
   "source": [
    "## How to use"
   ]
  },
  {
   "cell_type": "markdown",
   "metadata": {},
   "source": [
    "### Creating the simulation instance using the given files\n",
    "\n",
    "In the case that you already have all the configuration files and fmu files ready for the simulation,\n",
    "you can just import files to create the simulation instance. From the simulation instance, use `run_simulation`\n",
    "method to run simulation. It returns the output instance which contains logging, error and result. The result\n",
    "is a dict of names of components as keys and time-series outputs as data."
   ]
  },
  {
   "cell_type": "code",
   "execution_count": null,
   "metadata": {},
   "outputs": [],
   "source": [
    "import os\n",
    "from pycosim.osp_command_line import LoggingLevel\n",
    "from pycosim.simulation import FMU, SimulationConfiguration\n",
    "import pandas\n",
    "\n",
    "pandas.options.plotting.backend = \"plotly\"\n",
    "\n",
    "path_to_osp_system_strucuture_file = os.path.join(\"..\", \"test_data\", \"OspSystemStructureTest.xml\")\n",
    "path_to_dir = os.path.dirname(path_to_osp_system_strucuture_file)\n",
    "\n",
    "simulation_config = SimulationConfiguration(\n",
    "    system_structure=path_to_osp_system_strucuture_file,\n",
    "    path_to_fmu=path_to_dir\n",
    ")"
   ]
  },
  {
   "cell_type": "markdown",
   "metadata": {},
   "source": [
    "Note that the path to the directories that contain all the relevant FMUs should be provided together with the source for the system structure file.\n",
    "When the system is configured, you can run the simulation for a given simulation time with default settings:"
   ]
  },
  {
   "cell_type": "code",
   "execution_count": null,
   "metadata": {},
   "outputs": [
    {
     "name": "stdout",
     "output_type": "stream",
     "text": [
      "Logging: Output csv files will be saved in the following directory: C:\\Users\\keviny\\AppData\\Local\\Temp\\pycosim_tmp\\sim_29af1588-8646-4d10-9bf0-a15de757bae7\\\n",
      "Simulation will run until 10 seconds.\n",
      "Running simulation.\n",
      "\n",
      "Simulation completed in 1.9080350399017334 seconds.\n",
      "\n",
      "Error: \n"
     ]
    }
   ],
   "source": [
    "simulation_output = simulation_config.run_simulation(\n",
    "    duration=10,\n",
    "    logging_level=LoggingLevel.info\n",
    ")\n",
    "print(f\"Logging: {simulation_output.log}\")\n",
    "print(f\"Error: {simulation_output.error}\")\n",
    "\n",
    "for name, output in simulation_output.result.items():\n",
    "    fig = output.plot(title=name)\n",
    "    fig.write_image(os.path.join(\"..\", \"resources\", f\"{name}_0.png\"))\n"
   ]
  },
  {
   "cell_type": "markdown",
   "metadata": {},
   "source": [
    "![Chassis-Plot](/resources/chassis_0.png)\n",
    "![Chassis-Plot](/resources/wheel_0.png)\n",
    "![Chassis-Plot](/resources/ground_0.png)"
   ]
  },
  {
   "cell_type": "markdown",
   "metadata": {},
   "source": [
    "Default setting for the simulation is:\n",
    "- No scenario\n",
    "- No logging configuration (All variables will be logged at each time step.)\n",
    "- The system structure and output files are saved in the same directory as the temporary one where FMUs are deployed.\n",
    "- Only warning from simulation setting up and progress messages are logged."
   ]
  },
  {
   "cell_type": "markdown",
   "metadata": {},
   "source": [
    "### Scenario configuration\n",
    "A scenario is a collection of events that override / bias / reset a variable of components in the target system. A scenario can be created as follows:"
   ]
  },
  {
   "cell_type": "code",
   "execution_count": null,
   "metadata": {},
   "outputs": [
    {
     "data": {
      "text/plain": "<pyOSPParser.scenario.OSPEvent>"
     },
     "execution_count": null,
     "metadata": {},
     "output_type": "execute_result"
    }
   ],
   "source": [
    "from pyOSPParser.scenario import OSPScenario, OSPEvent\n",
    "\n",
    "simulation_end_time = 10\n",
    "simulation_config.scenario = OSPScenario(name='test_scenario', end=simulation_end_time)\n",
    "\n",
    "# Adding an event to the scenario\n",
    "simulation_config.scenario.add_event(OSPEvent(\n",
    "    time=5,  # Time when the event happens\n",
    "    model='chassis',  # Name_of_the_component\n",
    "    variable='C.mChassis', # name_of_the_variable,\n",
    "    action=OSPEvent.OVERRIDE, # Type of actions among OVERRIDE, BIAS, RESET\n",
    "    value=19.4 # Value (only for OVERRIDE and BIAS)\n",
    "))\n"
   ]
  },
  {
   "cell_type": "markdown",
   "metadata": {},
   "source": [
    "### Logging configuration\n",
    "A logging configuration specifies which variables will be logged as output of the simulation. A logging configuration can be\n",
    "defined using OspLoggingConfiguration class:"
   ]
  },
  {
   "cell_type": "code",
   "execution_count": null,
   "metadata": {},
   "outputs": [],
   "source": [
    "from pyOSPParser.logging_configuration import OspVariableForLogging, OspSimulatorForLogging, OspLoggingConfiguration\n",
    "\n",
    "# Create a variable object for logging\n",
    "variables = [OspVariableForLogging(name=\"zChassis\"), OspVariableForLogging(name=\"p.e\")]\n",
    "\n",
    "# Create a logging configuration of a component\n",
    "name_of_component = 'chassis'\n",
    "logging_config_comp = OspSimulatorForLogging(\n",
    "    name=name_of_component,\n",
    "    decimation_factor=10, # Relative period of how often the logging is made. 10 means once every ten time steps\n",
    "    variables=variables\n",
    ")\n",
    "\n",
    "# Create a logging configuration instance for the system\n",
    "simulation_config.logging_config = OspLoggingConfiguration(simulators=[logging_config_comp])"
   ]
  },
  {
   "cell_type": "markdown",
   "metadata": {},
   "source": [
    "You can set the logging level for the messages during setting up and running a simulation. You can do that\n",
    "by passing the `LoggingLevel` member when running the simulation. If not specified, it will be 'warning' by default.\n",
    "\n",
    "Let's run the simulation again and see how the new configuration affected the outputs."
   ]
  },
  {
   "cell_type": "code",
   "execution_count": null,
   "metadata": {},
   "outputs": [
    {
     "name": "stdout",
     "output_type": "stream",
     "text": [
      "Logging: \n",
      "Error: \n"
     ]
    }
   ],
   "source": [
    "from pycosim.simulation import LoggingLevel\n",
    "\n",
    "simulation_output = simulation_config.run_simulation(\n",
    "    duration=simulation_end_time,\n",
    "    logging_level=LoggingLevel.warning\n",
    ")\n",
    "\n",
    "print(f\"Logging: {simulation_output.log}\")\n",
    "print(f\"Error: {simulation_output.error}\")\n",
    "\n",
    "for name, output in simulation_output.result.items():\n",
    "    fig = output.plot(title=name)\n",
    "    fig.write_image(os.path.join(\"..\", \"resources\", f\"{name}_1.png\"))"
   ]
  },
  {
   "cell_type": "markdown",
   "metadata": {},
   "source": [
    "![chassis-plot](/resources/chassis_1.png)\n",
    "![chassis-plot](/resources/wheel_1.png)\n",
    "![chassis-plot](/resources/ground_1.png)"
   ]
  }
 ],
 "metadata": {
  "kernelspec": {
   "display_name": "Python 3 (ipykernel)",
   "language": "python",
   "name": "python3"
  }
 },
 "nbformat": 4,
 "nbformat_minor": 4
}
